{
 "cells": [
  {
   "cell_type": "code",
   "execution_count": 1,
   "metadata": {},
   "outputs": [],
   "source": [
    "\n",
    "import numpy as np     \n",
    "import pandas as pd \n",
    "import re \n",
    "import gzip  \n",
    "import csv\n",
    "import random   \n",
    "import matplotlib.pyplot as plt     \n",
    "from pandas.plotting import scatter_matrix\n",
    "import seaborn as sns   \n",
    "\n",
    "from sklearn.utils import resample"
   ]
  },
  {
   "cell_type": "markdown",
   "metadata": {},
   "source": [
    "# Distribution of Grade and Class of Original Dataset"
   ]
  },
  {
   "cell_type": "code",
   "execution_count": 2,
   "metadata": {},
   "outputs": [],
   "source": [
    "def percentage(dataframe):\n",
    "    years = sorted(list(dataframe.issued_yr.unique()))\n",
    "    grade = sorted(list(dataframe.grade.unique()))\n",
    "    dist = {}\n",
    "    for x in years:\n",
    "        for y in grade:\n",
    "            num = dataframe[dataframe['grade'] == y][dataframe['issued_yr']== x][dataframe['loan_status_n'] ==1].term.count()\n",
    "            percentage = round(num / len(dataframe[dataframe['loan_status_n']==1].term),5)\n",
    "            place = str(x) +'_'+ y\n",
    "            dist[place] = percentage\n",
    "    return dist"
   ]
  },
  {
   "cell_type": "markdown",
   "metadata": {},
   "source": [
    "# Down Sample with Proportion to Year and Grade"
   ]
  },
  {
   "cell_type": "code",
   "execution_count": 5,
   "metadata": {},
   "outputs": [],
   "source": [
    "def pro_down_sample_combined_dict(data):\n",
    "    dist = percentage(data)\n",
    "    minority_count = data[data['loan_status_n'] == 0].shape[0]\n",
    "    data_1 = data[data['loan_status_n'] == 1]\n",
    "    years_ = list(data.issued_yr.unique())\n",
    "    grade_ = list(data.grade.unique())\n",
    "    sample_down_df = pd.DataFrame(columns = data.columns)\n",
    "    #desired size of sample down size======= might have to change a little bit to match the # of bad loans\n",
    "    #size_of_sample = percent_of_data*(data_1.shape[0])\n",
    "    size_of_sample = minority_count\n",
    "    for x in years_:\n",
    "        for y in grade_:\n",
    "            year_class = str(x)+'_'+y\n",
    "            # this 'dist' needs to refer to the output of percentage(dataframe) assigned to 'dist' variable name\n",
    "            year_class_prop = dist[year_class]\n",
    "            target_num = int(size_of_sample* year_class_prop)\n",
    "            temp_df = data_1[data_1['grade'] == y][data_1['issued_yr']== x]\n",
    "            sample_temp_df = resample(temp_df,\n",
    "                                     replace = False,\n",
    "                                     n_samples = target_num,\n",
    "                                     random_state=123)\n",
    "            sample_down_df = pd.concat([sample_down_df,sample_temp_df])\n",
    "    return sample_down_df"
   ]
  },
  {
   "cell_type": "markdown",
   "metadata": {},
   "source": [
    "# Distribution of Grade and Year of Down Sample Data "
   ]
  },
  {
   "cell_type": "code",
   "execution_count": 4,
   "metadata": {},
   "outputs": [],
   "source": [
    "def percentage_down_sample(dataframe):\n",
    "    dist_test = {}\n",
    "\n",
    "    years = sorted(list(dataframe.issued_yr.unique()))\n",
    "    grade = sorted(list(dataframe.grade.unique()))\n",
    "    for x in years:\n",
    "        for y in grade:\n",
    "            num = dataframe[dataframe['grade'] == y][dataframe['issued_yr']== x][dataframe['loan_status_n'] ==1].term.count()\n",
    "            percentage = round(num / len(dataframe.term),5)\n",
    "            place = str(x) +'_'+ y\n",
    "            dist_test[place] = percentage\n",
    "    return dist_test"
   ]
  },
  {
   "cell_type": "markdown",
   "metadata": {},
   "source": [
    "# If Downsizing of Minority Class"
   ]
  },
  {
   "cell_type": "code",
   "execution_count": 8,
   "metadata": {},
   "outputs": [],
   "source": [
    "def pro_down_sample_minority(data, percent_of_data):\n",
    "    dist = percentage_minority(data)\n",
    "    data_1 = data[data['loan_status_n'] == 0]\n",
    "    years_ = list(data.issued_yr.unique())\n",
    "    grade_ = list(data.grade.unique())\n",
    "    sample_down_df = pd.DataFrame(columns = data.columns)\n",
    "    #desired size of sample down size\n",
    "    size_of_sample = percent_of_data*(data_1.shape[0])\n",
    "\n",
    "    #print(size_of_sample)\n",
    "    for x in years_:\n",
    "        for y in grade_:\n",
    "            year_class = str(x)+'_'+y\n",
    "            year_class_prop = dist[year_class]\n",
    "            target_num = int(size_of_sample* year_class_prop)\n",
    "            #delete_later = size_of_sample* year_class_prop\n",
    "            #print(str(target_num) + '_' + str(delete_later))\n",
    "            temp_df = data_1[data_1['grade'] == y][data_1['issued_yr']== x]\n",
    "            sample_temp_df = resample(temp_df,\n",
    "                                     replace = False,\n",
    "                                     n_samples = target_num,\n",
    "                                     random_state=123)\n",
    "            sample_down_df = pd.concat([sample_down_df,sample_temp_df])\n",
    "    return sample_down_df"
   ]
  },
  {
   "cell_type": "markdown",
   "metadata": {},
   "source": [
    "# If Downsizing of Minority Class (dictionary proportion for minority class)\n"
   ]
  },
  {
   "cell_type": "code",
   "execution_count": 7,
   "metadata": {},
   "outputs": [],
   "source": [
    "def percentage_minority(dataframe):\n",
    "    years = sorted(list(dataframe.issued_yr.unique()))\n",
    "    grade = sorted(list(dataframe.grade.unique()))\n",
    "    dist = {}\n",
    "    for x in years:\n",
    "        for y in grade:\n",
    "            num = dataframe[dataframe['grade'] == y][dataframe['issued_yr']== x][dataframe['loan_status_n'] ==1].term.count()\n",
    "            percentage = round(num / len(dataframe[dataframe['loan_status_n']==1].term),5)\n",
    "            place = str(x) +'_'+ y\n",
    "            dist[place] = percentage\n",
    "    return dist"
   ]
  },
  {
   "cell_type": "markdown",
   "metadata": {},
   "source": [
    "# If Downsizing of Minority Class: Downsize Majority Class"
   ]
  },
  {
   "cell_type": "code",
   "execution_count": null,
   "metadata": {},
   "outputs": [],
   "source": [
    "def pro_down_sample_combined_dict_minority(data, downsized_minority_size):\n",
    "    dist = percentage(data)\n",
    "    data_1 = data[data['loan_status_n'] == 1]\n",
    "    years_ = list(data.issued_yr.unique())\n",
    "    grade_ = list(data.grade.unique())\n",
    "    sample_down_df = pd.DataFrame(columns = data.columns)\n",
    "    #desired size of sample down size======= might have to change a little bit to match the # of bad loans\n",
    "    #size_of_sample = percent_of_data*(data_1.shape[0])\n",
    "    size_of_sample = downsized_minority_size\n",
    "    for x in years_:\n",
    "        for y in grade_:\n",
    "            year_class = str(x)+'_'+y\n",
    "            # this 'dist' needs to refer to the output of percentage(dataframe) assigned to 'dist' variable name\n",
    "            year_class_prop = dist[year_class]\n",
    "            target_num = int(size_of_sample* year_class_prop)\n",
    "            temp_df = data_1[data_1['grade'] == y][data_1['issued_yr']== x]\n",
    "            sample_temp_df = resample(temp_df,\n",
    "                                     replace = False,\n",
    "                                     n_samples = target_num,\n",
    "                                     random_state=123)\n",
    "            sample_down_df = pd.concat([sample_down_df,sample_temp_df])\n",
    "    return sample_down_df"
   ]
  }
 ],
 "metadata": {
  "kernelspec": {
   "display_name": "Python 3",
   "language": "python",
   "name": "python3"
  },
  "language_info": {
   "codemirror_mode": {
    "name": "ipython",
    "version": 3
   },
   "file_extension": ".py",
   "mimetype": "text/x-python",
   "name": "python",
   "nbconvert_exporter": "python",
   "pygments_lexer": "ipython3",
   "version": "3.7.6"
  }
 },
 "nbformat": 4,
 "nbformat_minor": 4
}
